{
  "nbformat": 4,
  "nbformat_minor": 0,
  "metadata": {
    "colab": {
      "provenance": [],
      "authorship_tag": "ABX9TyNhpvc24Udzsy1c6zVMRZYt"
    },
    "kernelspec": {
      "name": "python3",
      "display_name": "Python 3"
    },
    "language_info": {
      "name": "python"
    }
  },
  "cells": [
    {
      "cell_type": "code",
      "execution_count": null,
      "metadata": {
        "id": "tInnlGIuS7B5"
      },
      "outputs": [],
      "source": [
        "import sqlite3\n",
        "import datetime\n",
        "\n",
        "conn = sqlite3.connect('example.db')\n",
        "c = conn.cursor()\n",
        "\n",
        "# 新增且清空資料表\n",
        "c.execute('''CREATE TABLE IF NOT EXISTS pharmacies\n",
        "             (city text, counts real, createdAt datetime)''')\n",
        "c.execute('''DELETE FROM pharmacies''')\n",
        "\n",
        "conn.commit()\n",
        "\n",
        "# 新增資料\n",
        "import requests\n",
        "import json\n",
        "\n",
        "url = 'https://raw.githubusercontent.com/kiang/pharmacies/master/json/points.json'\n",
        "response = requests.get(url)\n",
        "\n",
        "d = response.text\n",
        "data = json.loads(d)\n",
        "\n",
        "#計算縣市藥局數量\n",
        "med_count = {}\n",
        "\n",
        "for d in data['features']:\n",
        "    conunty = d['properties']['county']\n",
        "    if conunty not in med_count:\n",
        "         med_count[conunty] = 0\n",
        "    if conunty in med_count:\n",
        "        med_count[conunty] +=1\n",
        "\n",
        "for d in med_count.keys():\n",
        "    t = datetime.datetime.now()\n",
        "    print(f\"INSERT INTO stocks VALUES ('{d}', {med_count[d]}, '{t}')\")\n",
        "    c.execute(f\"INSERT INTO pharmacies VALUES ('{d}', {med_count[d]}, '{t}')\")\n",
        "    \n",
        "conn.commit()\n",
        "\n",
        "# 查詢資料\n",
        "c.execute(\"SELECT * FROM pharmacies\")\n",
        "print(c.fetchall())\n",
        "\n",
        "conn.commit()\n",
        "conn.close()"
      ]
    }
  ]
}